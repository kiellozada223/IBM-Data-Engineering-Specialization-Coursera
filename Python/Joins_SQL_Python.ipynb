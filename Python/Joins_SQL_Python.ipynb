{
 "cells": [
  {
   "cell_type": "code",
   "execution_count": 1,
   "metadata": {},
   "outputs": [],
   "source": [
    "%load_ext sql"
   ]
  },
  {
   "cell_type": "code",
   "execution_count": 2,
   "metadata": {},
   "outputs": [],
   "source": [
    "import csv\n",
    "import sqlite3"
   ]
  },
  {
   "cell_type": "code",
   "execution_count": 3,
   "metadata": {},
   "outputs": [],
   "source": [
    "conn = sqlite3.connect('ChicagoRealWorldData.db')\n",
    "cursor = conn.cursor()"
   ]
  },
  {
   "cell_type": "code",
   "execution_count": 4,
   "metadata": {},
   "outputs": [],
   "source": [
    "%sql sqlite:///ChicagoRealWorldData.db"
   ]
  },
  {
   "cell_type": "code",
   "execution_count": 5,
   "metadata": {},
   "outputs": [],
   "source": [
    "import pandas as pd"
   ]
  },
  {
   "cell_type": "code",
   "execution_count": 6,
   "metadata": {},
   "outputs": [
    {
     "data": {
      "text/plain": [
       "566"
      ]
     },
     "execution_count": 6,
     "metadata": {},
     "output_type": "execute_result"
    }
   ],
   "source": [
    "df = pd.read_csv('ChicagoCensusData.csv')\n",
    "df.to_sql('CHICAGOCENSUS',conn, if_exists='replace',index=False,method='multi')\n",
    "\n",
    "df = pd.read_csv('ChicagoCrimeData.csv')\n",
    "df.to_sql('CHICAGOCRIME', conn, if_exists='replace', index=False, method='multi')\n",
    "\n",
    "df = pd.read_csv('ChicagoPublicSchools.csv')\n",
    "df.to_sql('CHICAGOPUBLICSHOOLS', conn, if_exists='replace',index=False, method='multi')"
   ]
  },
  {
   "cell_type": "code",
   "execution_count": 7,
   "metadata": {},
   "outputs": [
    {
     "name": "stdout",
     "output_type": "stream",
     "text": [
      " * sqlite:///ChicagoRealWorldData.db\n",
      "Done.\n"
     ]
    },
    {
     "data": {
      "text/html": [
       "<table>\n",
       "    <thead>\n",
       "        <tr>\n",
       "            <th>name</th>\n",
       "        </tr>\n",
       "    </thead>\n",
       "    <tbody>\n",
       "        <tr>\n",
       "            <td>CHICAGOCENSUS</td>\n",
       "        </tr>\n",
       "        <tr>\n",
       "            <td>CHICAGOCRIME</td>\n",
       "        </tr>\n",
       "        <tr>\n",
       "            <td>CHICAGOPUBLICSHOOLS</td>\n",
       "        </tr>\n",
       "    </tbody>\n",
       "</table>"
      ],
      "text/plain": [
       "[('CHICAGOCENSUS',), ('CHICAGOCRIME',), ('CHICAGOPUBLICSHOOLS',)]"
      ]
     },
     "execution_count": 7,
     "metadata": {},
     "output_type": "execute_result"
    }
   ],
   "source": [
    "%sql SELECT NAME FROM sqlite_master WHERE TYPE = 'table';"
   ]
  },
  {
   "cell_type": "markdown",
   "metadata": {},
   "source": [
    "## Problem 1\n",
    "### List the case number, type of crime and community area for all crimes in community area number 18."
   ]
  },
  {
   "cell_type": "code",
   "execution_count": 8,
   "metadata": {},
   "outputs": [
    {
     "name": "stdout",
     "output_type": "stream",
     "text": [
      " * sqlite:///ChicagoRealWorldData.db\n",
      "Done.\n"
     ]
    },
    {
     "data": {
      "text/html": [
       "<table>\n",
       "    <thead>\n",
       "        <tr>\n",
       "            <th>CASE_NUMBER</th>\n",
       "            <th>CRIME TYPE</th>\n",
       "            <th>COMMUNITY_AREA_NAME</th>\n",
       "        </tr>\n",
       "    </thead>\n",
       "    <tbody>\n",
       "        <tr>\n",
       "            <td>JA560123</td>\n",
       "            <td>CRIMINAL DAMAGE</td>\n",
       "            <td>Montclaire</td>\n",
       "        </tr>\n",
       "        <tr>\n",
       "            <td>JA107722</td>\n",
       "            <td>OTHER OFFENSE</td>\n",
       "            <td>Montclaire</td>\n",
       "        </tr>\n",
       "    </tbody>\n",
       "</table>"
      ],
      "text/plain": [
       "[('JA560123', 'CRIMINAL DAMAGE', 'Montclaire'),\n",
       " ('JA107722', 'OTHER OFFENSE', 'Montclaire')]"
      ]
     },
     "execution_count": 8,
     "metadata": {},
     "output_type": "execute_result"
    }
   ],
   "source": [
    "%sql SELECT CCD.CASE_NUMBER, CCD.PRIMARY_TYPE AS \"CRIME TYPE\", CC.COMMUNITY_AREA_NAME FROM CHICAGOCRIME CCD INNER JOIN CHICAGOCENSUS CC ON CCD.COMMUNITY_AREA_NUMBER = CC.COMMUNITY_AREA_NUMBER WHERE CCD.COMMUNITY_AREA_NUMBER = 18;"
   ]
  },
  {
   "cell_type": "markdown",
   "metadata": {},
   "source": [
    "## Problem 2\n",
    "## List all crimes that took place at a school. Include case number, crime type and community name"
   ]
  },
  {
   "cell_type": "code",
   "execution_count": 9,
   "metadata": {},
   "outputs": [
    {
     "name": "stdout",
     "output_type": "stream",
     "text": [
      " * sqlite:///ChicagoRealWorldData.db\n",
      "Done.\n"
     ]
    },
    {
     "data": {
      "text/html": [
       "<table>\n",
       "    <thead>\n",
       "        <tr>\n",
       "            <th>CASE_NUMBER</th>\n",
       "            <th>CRIME TYPE</th>\n",
       "            <th>COMMUNITY_AREA_NAME</th>\n",
       "        </tr>\n",
       "    </thead>\n",
       "    <tbody>\n",
       "        <tr>\n",
       "            <td>HL353697</td>\n",
       "            <td>BATTERY</td>\n",
       "            <td>South Shore</td>\n",
       "        </tr>\n",
       "        <tr>\n",
       "            <td>HL725506</td>\n",
       "            <td>BATTERY</td>\n",
       "            <td>Lincoln Square</td>\n",
       "        </tr>\n",
       "        <tr>\n",
       "            <td>HP716225</td>\n",
       "            <td>BATTERY</td>\n",
       "            <td>Douglas</td>\n",
       "        </tr>\n",
       "        <tr>\n",
       "            <td>HH639427</td>\n",
       "            <td>BATTERY</td>\n",
       "            <td>Austin</td>\n",
       "        </tr>\n",
       "        <tr>\n",
       "            <td>JA460432</td>\n",
       "            <td>BATTERY</td>\n",
       "            <td>Ashburn</td>\n",
       "        </tr>\n",
       "        <tr>\n",
       "            <td>HS200939</td>\n",
       "            <td>CRIMINAL DAMAGE</td>\n",
       "            <td>Austin</td>\n",
       "        </tr>\n",
       "        <tr>\n",
       "            <td>HK577020</td>\n",
       "            <td>NARCOTICS</td>\n",
       "            <td>Rogers Park</td>\n",
       "        </tr>\n",
       "        <tr>\n",
       "            <td>HS305355</td>\n",
       "            <td>NARCOTICS</td>\n",
       "            <td>Brighton Park</td>\n",
       "        </tr>\n",
       "        <tr>\n",
       "            <td>HT315369</td>\n",
       "            <td>ASSAULT</td>\n",
       "            <td>East Garfield Park</td>\n",
       "        </tr>\n",
       "        <tr>\n",
       "            <td>HR585012</td>\n",
       "            <td>CRIMINAL TRESPASS</td>\n",
       "            <td>Ashburn</td>\n",
       "        </tr>\n",
       "        <tr>\n",
       "            <td>HH292682</td>\n",
       "            <td>PUBLIC PEACE VIOLATION</td>\n",
       "            <td>None</td>\n",
       "        </tr>\n",
       "        <tr>\n",
       "            <td>G635735</td>\n",
       "            <td>PUBLIC PEACE VIOLATION</td>\n",
       "            <td>None</td>\n",
       "        </tr>\n",
       "    </tbody>\n",
       "</table>"
      ],
      "text/plain": [
       "[('HL353697', 'BATTERY', 'South Shore'),\n",
       " ('HL725506', 'BATTERY', 'Lincoln Square'),\n",
       " ('HP716225', 'BATTERY', 'Douglas'),\n",
       " ('HH639427', 'BATTERY', 'Austin'),\n",
       " ('JA460432', 'BATTERY', 'Ashburn'),\n",
       " ('HS200939', 'CRIMINAL DAMAGE', 'Austin'),\n",
       " ('HK577020', 'NARCOTICS', 'Rogers Park'),\n",
       " ('HS305355', 'NARCOTICS', 'Brighton Park'),\n",
       " ('HT315369', 'ASSAULT', 'East Garfield Park'),\n",
       " ('HR585012', 'CRIMINAL TRESPASS', 'Ashburn'),\n",
       " ('HH292682', 'PUBLIC PEACE VIOLATION', None),\n",
       " ('G635735', 'PUBLIC PEACE VIOLATION', None)]"
      ]
     },
     "execution_count": 9,
     "metadata": {},
     "output_type": "execute_result"
    }
   ],
   "source": [
    "%sql SELECT CCD.CASE_NUMBER, CCD.PRIMARY_TYPE AS \"CRIME TYPE\", CC.COMMUNITY_AREA_NAME FROM CHICAGOCRIME CCD LEFT JOIN CHICAGOCENSUS CC ON CCD.COMMUNITY_AREA_NUMBER = CC.COMMUNITY_AREA_NUMBER WHERE CCD.LOCATION_DESCRIPTION LIKE 'SCHOOL%';"
   ]
  }
 ],
 "metadata": {
  "kernelspec": {
   "display_name": "Python 3",
   "language": "python",
   "name": "python3"
  },
  "language_info": {
   "codemirror_mode": {
    "name": "ipython",
    "version": 3
   },
   "file_extension": ".py",
   "mimetype": "text/x-python",
   "name": "python",
   "nbconvert_exporter": "python",
   "pygments_lexer": "ipython3",
   "version": "3.9.6"
  },
  "orig_nbformat": 4
 },
 "nbformat": 4,
 "nbformat_minor": 2
}
