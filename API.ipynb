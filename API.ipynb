{
 "cells": [
  {
   "cell_type": "code",
   "execution_count": 1,
   "metadata": {},
   "outputs": [
    {
     "name": "stdout",
     "output_type": "stream",
     "text": [
      "Defaulting to user installation because normal site-packages is not writeable\n",
      "Requirement already satisfied: pandas in /Users/mike/Library/Python/3.9/lib/python/site-packages (2.1.0)\n",
      "Requirement already satisfied: numpy>=1.22.4 in /Users/mike/Library/Python/3.9/lib/python/site-packages (from pandas) (1.26.0)\n",
      "Requirement already satisfied: pytz>=2020.1 in /Users/mike/Library/Python/3.9/lib/python/site-packages (from pandas) (2023.3.post1)\n",
      "Requirement already satisfied: python-dateutil>=2.8.2 in /Users/mike/Library/Python/3.9/lib/python/site-packages (from pandas) (2.8.2)\n",
      "Requirement already satisfied: tzdata>=2022.1 in /Users/mike/Library/Python/3.9/lib/python/site-packages (from pandas) (2023.3)\n",
      "Requirement already satisfied: six>=1.5 in /Users/mike/Library/Python/3.9/lib/python/site-packages (from python-dateutil>=2.8.2->pandas) (1.16.0)\n",
      "\u001b[33mWARNING: You are using pip version 21.1.3; however, version 23.2.1 is available.\n",
      "You should consider upgrading via the '/usr/local/opt/python@3.9/bin/python3.9 -m pip install --upgrade pip' command.\u001b[0m\n",
      "Note: you may need to restart the kernel to use updated packages.\n"
     ]
    }
   ],
   "source": [
    "pip install pandas"
   ]
  },
  {
   "cell_type": "code",
   "execution_count": 2,
   "metadata": {},
   "outputs": [
    {
     "name": "stdout",
     "output_type": "stream",
     "text": [
      "Defaulting to user installation because normal site-packages is not writeable\n",
      "Requirement already satisfied: requests in /Users/mike/Library/Python/3.9/lib/python/site-packages (2.31.0)\n",
      "Requirement already satisfied: charset-normalizer<4,>=2 in /Users/mike/Library/Python/3.9/lib/python/site-packages (from requests) (3.2.0)\n",
      "Requirement already satisfied: idna<4,>=2.5 in /Users/mike/Library/Python/3.9/lib/python/site-packages (from requests) (3.4)\n",
      "Requirement already satisfied: urllib3<3,>=1.21.1 in /Users/mike/Library/Python/3.9/lib/python/site-packages (from requests) (2.0.5)\n",
      "Requirement already satisfied: certifi>=2017.4.17 in /Users/mike/Library/Python/3.9/lib/python/site-packages (from requests) (2023.7.22)\n",
      "\u001b[33mWARNING: You are using pip version 21.1.3; however, version 23.2.1 is available.\n",
      "You should consider upgrading via the '/usr/local/opt/python@3.9/bin/python3.9 -m pip install --upgrade pip' command.\u001b[0m\n",
      "Note: you may need to restart the kernel to use updated packages.\n"
     ]
    }
   ],
   "source": [
    "pip install requests"
   ]
  },
  {
   "cell_type": "code",
   "execution_count": 3,
   "metadata": {},
   "outputs": [],
   "source": [
    "import pandas as pd\n",
    "import requests\n",
    "import json"
   ]
  },
  {
   "cell_type": "code",
   "execution_count": 4,
   "metadata": {},
   "outputs": [],
   "source": [
    "# Write your code here\n",
    "url = \"http://api.exchangeratesapi.io/v1/latest?base=EUR&access_key=6b2ab80305deb066a4e73b0303804257\"  #Make sure to change ******* to your API key."
   ]
  },
  {
   "cell_type": "code",
   "execution_count": 5,
   "metadata": {},
   "outputs": [
    {
     "data": {
      "text/plain": [
       "<Response [200]>"
      ]
     },
     "execution_count": 5,
     "metadata": {},
     "output_type": "execute_result"
    }
   ],
   "source": [
    "html_data = requests.get(url)\n",
    "html_data"
   ]
  },
  {
   "cell_type": "code",
   "execution_count": 6,
   "metadata": {},
   "outputs": [
    {
     "data": {
      "text/plain": [
       "{'success': True,\n",
       " 'timestamp': 1695826443,\n",
       " 'base': 'EUR',\n",
       " 'date': '2023-09-27',\n",
       " 'rates': {'AED': 3.861277,\n",
       "  'AFN': 82.208274,\n",
       "  'ALL': 106.589119,\n",
       "  'AMD': 408.506826,\n",
       "  'ANG': 1.896523,\n",
       "  'AOA': 867.834674,\n",
       "  'ARS': 367.974642,\n",
       "  'AUD': 1.648483,\n",
       "  'AWG': 1.894885,\n",
       "  'AZN': 1.785833,\n",
       "  'BAM': 1.950158,\n",
       "  'BBD': 2.124752,\n",
       "  'BDT': 116.045402,\n",
       "  'BGN': 1.953737,\n",
       "  'BHD': 0.396334,\n",
       "  'BIF': 2983.127702,\n",
       "  'BMD': 1.051254,\n",
       "  'BND': 1.442558,\n",
       "  'BOB': 7.271618,\n",
       "  'BRL': 5.282762,\n",
       "  'BSD': 1.052306,\n",
       "  'BTC': 4.0112003e-05,\n",
       "  'BTN': 87.566218,\n",
       "  'BWP': 14.495859,\n",
       "  'BYN': 2.656353,\n",
       "  'BYR': 20604.576108,\n",
       "  'BZD': 2.121233,\n",
       "  'CAD': 1.421227,\n",
       "  'CDF': 2622.878701,\n",
       "  'CHF': 0.966433,\n",
       "  'CLF': 0.034475,\n",
       "  'CLP': 951.282642,\n",
       "  'CNY': 7.68582,\n",
       "  'COP': 4292.038329,\n",
       "  'CRC': 566.633864,\n",
       "  'CUC': 1.051254,\n",
       "  'CUP': 27.858228,\n",
       "  'CVE': 109.94694,\n",
       "  'CZK': 24.364895,\n",
       "  'DJF': 187.375278,\n",
       "  'DKK': 7.456607,\n",
       "  'DOP': 59.674532,\n",
       "  'DZD': 144.596796,\n",
       "  'EGP': 32.486583,\n",
       "  'ERN': 15.768808,\n",
       "  'ETB': 58.216619,\n",
       "  'EUR': 1,\n",
       "  'FJD': 2.416727,\n",
       "  'FKP': 0.864204,\n",
       "  'GBP': 0.866464,\n",
       "  'GEL': 2.806553,\n",
       "  'GGP': 0.864204,\n",
       "  'GHS': 12.181182,\n",
       "  'GIP': 0.864204,\n",
       "  'GMD': 68.384351,\n",
       "  'GNF': 9035.946341,\n",
       "  'GTQ': 8.271678,\n",
       "  'GYD': 220.162632,\n",
       "  'HKD': 8.221909,\n",
       "  'HNL': 25.949303,\n",
       "  'HRK': 7.37424,\n",
       "  'HTG': 142.590725,\n",
       "  'HUF': 392.899308,\n",
       "  'IDR': 16325.079238,\n",
       "  'ILS': 4.040505,\n",
       "  'IMP': 0.864204,\n",
       "  'INR': 87.467425,\n",
       "  'IQD': 1378.186896,\n",
       "  'IRR': 44415.476581,\n",
       "  'ISK': 144.904757,\n",
       "  'JEP': 0.864204,\n",
       "  'JMD': 162.701591,\n",
       "  'JOD': 0.746185,\n",
       "  'JPY': 157.111473,\n",
       "  'KES': 155.533269,\n",
       "  'KGS': 93.25702,\n",
       "  'KHR': 4331.264309,\n",
       "  'KMF': 489.831347,\n",
       "  'KPW': 946.153859,\n",
       "  'KRW': 1424.611932,\n",
       "  'KWD': 0.325132,\n",
       "  'KYD': 0.876951,\n",
       "  'KZT': 504.557591,\n",
       "  'LAK': 21306.350604,\n",
       "  'LBP': 15816.493033,\n",
       "  'LKR': 340.81731,\n",
       "  'LRD': 196.060627,\n",
       "  'LSL': 20.015718,\n",
       "  'LTL': 3.10408,\n",
       "  'LVL': 0.635893,\n",
       "  'LYD': 5.144119,\n",
       "  'MAD': 10.820344,\n",
       "  'MDL': 19.100292,\n",
       "  'MGA': 4784.930345,\n",
       "  'MKD': 61.520787,\n",
       "  'MMK': 2209.975345,\n",
       "  'MNT': 3648.028037,\n",
       "  'MOP': 8.475227,\n",
       "  'MRO': 375.297455,\n",
       "  'MUR': 46.779505,\n",
       "  'MVR': 16.251873,\n",
       "  'MWK': 1147.159618,\n",
       "  'MXN': 18.569977,\n",
       "  'MYR': 4.949325,\n",
       "  'MZN': 66.491756,\n",
       "  'NAD': 20.016024,\n",
       "  'NGN': 821.555917,\n",
       "  'NIO': 38.508966,\n",
       "  'NOK': 11.316496,\n",
       "  'NPR': 140.103371,\n",
       "  'NZD': 1.77099,\n",
       "  'OMR': 0.404748,\n",
       "  'PAB': 1.052306,\n",
       "  'PEN': 3.986578,\n",
       "  'PGK': 3.830863,\n",
       "  'PHP': 59.849989,\n",
       "  'PKR': 303.439563,\n",
       "  'PLN': 4.631039,\n",
       "  'PYG': 7670.445748,\n",
       "  'QAR': 3.827646,\n",
       "  'RON': 4.975166,\n",
       "  'RSD': 117.191702,\n",
       "  'RUB': 101.708496,\n",
       "  'RWF': 1285.961561,\n",
       "  'SAR': 3.94352,\n",
       "  'SBD': 8.813065,\n",
       "  'SCR': 13.702289,\n",
       "  'SDG': 631.700836,\n",
       "  'SEK': 11.59573,\n",
       "  'SGD': 1.442263,\n",
       "  'SHP': 1.279113,\n",
       "  'SLE': 23.85181,\n",
       "  'SLL': 20762.264117,\n",
       "  'SOS': 598.68614,\n",
       "  'SSP': 632.329566,\n",
       "  'SRD': 40.173141,\n",
       "  'STD': 21758.832906,\n",
       "  'SYP': 13668.512327,\n",
       "  'SZL': 20.156403,\n",
       "  'THB': 38.481112,\n",
       "  'TJS': 11.560193,\n",
       "  'TMT': 3.679389,\n",
       "  'TND': 3.3388,\n",
       "  'TOP': 2.514231,\n",
       "  'TRY': 28.707745,\n",
       "  'TTD': 7.142997,\n",
       "  'TWD': 33.893792,\n",
       "  'TZS': 2638.647749,\n",
       "  'UAH': 38.856041,\n",
       "  'UGX': 3951.493755,\n",
       "  'USD': 1.051254,\n",
       "  'UYU': 40.302644,\n",
       "  'UZS': 12820.667854,\n",
       "  'VEF': 3570290.918159,\n",
       "  'VES': 35.795942,\n",
       "  'VND': 25650.594747,\n",
       "  'VUV': 127.965527,\n",
       "  'WST': 2.921135,\n",
       "  'XAF': 654.033873,\n",
       "  'XAG': 0.046437,\n",
       "  'XAU': 0.000558,\n",
       "  'XCD': 2.841066,\n",
       "  'XDR': 0.799698,\n",
       "  'XOF': 654.06489,\n",
       "  'XPF': 119.15937,\n",
       "  'YER': 263.181138,\n",
       "  'ZAR': 20.123732,\n",
       "  'ZMK': 9462.546245,\n",
       "  'ZMW': 21.80987,\n",
       "  'ZWL': 338.503321}}"
      ]
     },
     "execution_count": 6,
     "metadata": {},
     "output_type": "execute_result"
    }
   ],
   "source": [
    "response = json.loads(html_data.text)\n",
    "response"
   ]
  },
  {
   "cell_type": "code",
   "execution_count": 7,
   "metadata": {},
   "outputs": [],
   "source": [
    "x = html_data.json()"
   ]
  },
  {
   "cell_type": "code",
   "execution_count": 8,
   "metadata": {},
   "outputs": [
    {
     "data": {
      "text/plain": [
       "dict_keys(['success', 'timestamp', 'base', 'date', 'rates'])"
      ]
     },
     "execution_count": 8,
     "metadata": {},
     "output_type": "execute_result"
    }
   ],
   "source": [
    "x.keys()"
   ]
  },
  {
   "cell_type": "code",
   "execution_count": 12,
   "metadata": {},
   "outputs": [
    {
     "data": {
      "text/html": [
       "<div>\n",
       "<style scoped>\n",
       "    .dataframe tbody tr th:only-of-type {\n",
       "        vertical-align: middle;\n",
       "    }\n",
       "\n",
       "    .dataframe tbody tr th {\n",
       "        vertical-align: top;\n",
       "    }\n",
       "\n",
       "    .dataframe thead th {\n",
       "        text-align: right;\n",
       "    }\n",
       "</style>\n",
       "<table border=\"1\" class=\"dataframe\">\n",
       "  <thead>\n",
       "    <tr style=\"text-align: right;\">\n",
       "      <th></th>\n",
       "      <th>success</th>\n",
       "      <th>timestamp</th>\n",
       "      <th>base</th>\n",
       "      <th>date</th>\n",
       "      <th>rates</th>\n",
       "    </tr>\n",
       "  </thead>\n",
       "  <tbody>\n",
       "    <tr>\n",
       "      <th>AED</th>\n",
       "      <td>True</td>\n",
       "      <td>1695826443</td>\n",
       "      <td>EUR</td>\n",
       "      <td>2023-09-27</td>\n",
       "      <td>3.861277</td>\n",
       "    </tr>\n",
       "    <tr>\n",
       "      <th>AFN</th>\n",
       "      <td>True</td>\n",
       "      <td>1695826443</td>\n",
       "      <td>EUR</td>\n",
       "      <td>2023-09-27</td>\n",
       "      <td>82.208274</td>\n",
       "    </tr>\n",
       "    <tr>\n",
       "      <th>ALL</th>\n",
       "      <td>True</td>\n",
       "      <td>1695826443</td>\n",
       "      <td>EUR</td>\n",
       "      <td>2023-09-27</td>\n",
       "      <td>106.589119</td>\n",
       "    </tr>\n",
       "    <tr>\n",
       "      <th>AMD</th>\n",
       "      <td>True</td>\n",
       "      <td>1695826443</td>\n",
       "      <td>EUR</td>\n",
       "      <td>2023-09-27</td>\n",
       "      <td>408.506826</td>\n",
       "    </tr>\n",
       "    <tr>\n",
       "      <th>ANG</th>\n",
       "      <td>True</td>\n",
       "      <td>1695826443</td>\n",
       "      <td>EUR</td>\n",
       "      <td>2023-09-27</td>\n",
       "      <td>1.896523</td>\n",
       "    </tr>\n",
       "    <tr>\n",
       "      <th>...</th>\n",
       "      <td>...</td>\n",
       "      <td>...</td>\n",
       "      <td>...</td>\n",
       "      <td>...</td>\n",
       "      <td>...</td>\n",
       "    </tr>\n",
       "    <tr>\n",
       "      <th>YER</th>\n",
       "      <td>True</td>\n",
       "      <td>1695826443</td>\n",
       "      <td>EUR</td>\n",
       "      <td>2023-09-27</td>\n",
       "      <td>263.181138</td>\n",
       "    </tr>\n",
       "    <tr>\n",
       "      <th>ZAR</th>\n",
       "      <td>True</td>\n",
       "      <td>1695826443</td>\n",
       "      <td>EUR</td>\n",
       "      <td>2023-09-27</td>\n",
       "      <td>20.123732</td>\n",
       "    </tr>\n",
       "    <tr>\n",
       "      <th>ZMK</th>\n",
       "      <td>True</td>\n",
       "      <td>1695826443</td>\n",
       "      <td>EUR</td>\n",
       "      <td>2023-09-27</td>\n",
       "      <td>9462.546245</td>\n",
       "    </tr>\n",
       "    <tr>\n",
       "      <th>ZMW</th>\n",
       "      <td>True</td>\n",
       "      <td>1695826443</td>\n",
       "      <td>EUR</td>\n",
       "      <td>2023-09-27</td>\n",
       "      <td>21.809870</td>\n",
       "    </tr>\n",
       "    <tr>\n",
       "      <th>ZWL</th>\n",
       "      <td>True</td>\n",
       "      <td>1695826443</td>\n",
       "      <td>EUR</td>\n",
       "      <td>2023-09-27</td>\n",
       "      <td>338.503321</td>\n",
       "    </tr>\n",
       "  </tbody>\n",
       "</table>\n",
       "<p>170 rows × 5 columns</p>\n",
       "</div>"
      ],
      "text/plain": [
       "     success   timestamp base        date        rates\n",
       "AED     True  1695826443  EUR  2023-09-27     3.861277\n",
       "AFN     True  1695826443  EUR  2023-09-27    82.208274\n",
       "ALL     True  1695826443  EUR  2023-09-27   106.589119\n",
       "AMD     True  1695826443  EUR  2023-09-27   408.506826\n",
       "ANG     True  1695826443  EUR  2023-09-27     1.896523\n",
       "..       ...         ...  ...         ...          ...\n",
       "YER     True  1695826443  EUR  2023-09-27   263.181138\n",
       "ZAR     True  1695826443  EUR  2023-09-27    20.123732\n",
       "ZMK     True  1695826443  EUR  2023-09-27  9462.546245\n",
       "ZMW     True  1695826443  EUR  2023-09-27    21.809870\n",
       "ZWL     True  1695826443  EUR  2023-09-27   338.503321\n",
       "\n",
       "[170 rows x 5 columns]"
      ]
     },
     "execution_count": 12,
     "metadata": {},
     "output_type": "execute_result"
    }
   ],
   "source": [
    "df = pd.DataFrame(x)\n",
    "df"
   ]
  },
  {
   "cell_type": "code",
   "execution_count": 18,
   "metadata": {},
   "outputs": [
    {
     "name": "stdout",
     "output_type": "stream",
     "text": [
      "<class 'pandas.core.frame.DataFrame'>\n",
      "Index: 170 entries, AED to ZWL\n",
      "Data columns (total 5 columns):\n",
      " #   Column     Non-Null Count  Dtype  \n",
      "---  ------     --------------  -----  \n",
      " 0   success    170 non-null    bool   \n",
      " 1   timestamp  170 non-null    int64  \n",
      " 2   base       170 non-null    object \n",
      " 3   date       170 non-null    object \n",
      " 4   rates      170 non-null    float64\n",
      "dtypes: bool(1), float64(1), int64(1), object(2)\n",
      "memory usage: 10.9+ KB\n"
     ]
    }
   ],
   "source": [
    "df.info()"
   ]
  },
  {
   "cell_type": "code",
   "execution_count": 21,
   "metadata": {},
   "outputs": [
    {
     "data": {
      "text/html": [
       "<div>\n",
       "<style scoped>\n",
       "    .dataframe tbody tr th:only-of-type {\n",
       "        vertical-align: middle;\n",
       "    }\n",
       "\n",
       "    .dataframe tbody tr th {\n",
       "        vertical-align: top;\n",
       "    }\n",
       "\n",
       "    .dataframe thead th {\n",
       "        text-align: right;\n",
       "    }\n",
       "</style>\n",
       "<table border=\"1\" class=\"dataframe\">\n",
       "  <thead>\n",
       "    <tr style=\"text-align: right;\">\n",
       "      <th></th>\n",
       "      <th>rates</th>\n",
       "    </tr>\n",
       "  </thead>\n",
       "  <tbody>\n",
       "    <tr>\n",
       "      <th>AED</th>\n",
       "      <td>3.86</td>\n",
       "    </tr>\n",
       "    <tr>\n",
       "      <th>AFN</th>\n",
       "      <td>82.21</td>\n",
       "    </tr>\n",
       "    <tr>\n",
       "      <th>ALL</th>\n",
       "      <td>106.59</td>\n",
       "    </tr>\n",
       "    <tr>\n",
       "      <th>AMD</th>\n",
       "      <td>408.51</td>\n",
       "    </tr>\n",
       "    <tr>\n",
       "      <th>ANG</th>\n",
       "      <td>1.90</td>\n",
       "    </tr>\n",
       "    <tr>\n",
       "      <th>...</th>\n",
       "      <td>...</td>\n",
       "    </tr>\n",
       "    <tr>\n",
       "      <th>YER</th>\n",
       "      <td>263.18</td>\n",
       "    </tr>\n",
       "    <tr>\n",
       "      <th>ZAR</th>\n",
       "      <td>20.12</td>\n",
       "    </tr>\n",
       "    <tr>\n",
       "      <th>ZMK</th>\n",
       "      <td>9462.55</td>\n",
       "    </tr>\n",
       "    <tr>\n",
       "      <th>ZMW</th>\n",
       "      <td>21.81</td>\n",
       "    </tr>\n",
       "    <tr>\n",
       "      <th>ZWL</th>\n",
       "      <td>338.50</td>\n",
       "    </tr>\n",
       "  </tbody>\n",
       "</table>\n",
       "<p>170 rows × 1 columns</p>\n",
       "</div>"
      ],
      "text/plain": [
       "       rates\n",
       "AED     3.86\n",
       "AFN    82.21\n",
       "ALL   106.59\n",
       "AMD   408.51\n",
       "ANG     1.90\n",
       "..       ...\n",
       "YER   263.18\n",
       "ZAR    20.12\n",
       "ZMK  9462.55\n",
       "ZMW    21.81\n",
       "ZWL   338.50\n",
       "\n",
       "[170 rows x 1 columns]"
      ]
     },
     "execution_count": 21,
     "metadata": {},
     "output_type": "execute_result"
    }
   ],
   "source": [
    "exchange_rates = df[['rates']]\n",
    "exchange_rates"
   ]
  },
  {
   "cell_type": "code",
   "execution_count": 22,
   "metadata": {},
   "outputs": [
    {
     "name": "stdout",
     "output_type": "stream",
     "text": [
      "<class 'pandas.core.frame.DataFrame'>\n",
      "Index: 170 entries, AED to ZWL\n",
      "Data columns (total 1 columns):\n",
      " #   Column  Non-Null Count  Dtype  \n",
      "---  ------  --------------  -----  \n",
      " 0   rates   170 non-null    float64\n",
      "dtypes: float64(1)\n",
      "memory usage: 6.7+ KB\n"
     ]
    }
   ],
   "source": [
    "exchange_rates.info()"
   ]
  },
  {
   "cell_type": "code",
   "execution_count": 23,
   "metadata": {},
   "outputs": [],
   "source": [
    "exchange_rates.to_csv('exchange_rates_1.csv')"
   ]
  }
 ],
 "metadata": {
  "kernelspec": {
   "display_name": "Python 3",
   "language": "python",
   "name": "python3"
  },
  "language_info": {
   "codemirror_mode": {
    "name": "ipython",
    "version": 3
   },
   "file_extension": ".py",
   "mimetype": "text/x-python",
   "name": "python",
   "nbconvert_exporter": "python",
   "pygments_lexer": "ipython3",
   "version": "3.9.6"
  },
  "orig_nbformat": 4
 },
 "nbformat": 4,
 "nbformat_minor": 2
}
